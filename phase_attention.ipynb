{
 "cells": [
  {
   "cell_type": "code",
   "execution_count": 1,
   "metadata": {},
   "outputs": [],
   "source": [
    "import os\n",
    "os.environ[\"CUDA_VISIBLE_DEVICES\"] = '1'"
   ]
  },
  {
   "cell_type": "code",
   "execution_count": 2,
   "metadata": {},
   "outputs": [],
   "source": [
    "from PIL import Image\n",
    "from torchvision import transforms\n",
    "from torch.utils.data import Dataset, DataLoader\n",
    "from sklearn.model_selection import train_test_split\n",
    "import numpy as np\n",
    "import torch\n",
    "import matplotlib.pyplot as plt"
   ]
  },
  {
   "cell_type": "code",
   "execution_count": 3,
   "metadata": {},
   "outputs": [],
   "source": [
    "import fnmatch\n",
    "train = []\n",
    "tes = []\n",
    "val = []\n",
    "\n",
    "for root,dirs,files in os.walk('./3fold_out4/train'):\n",
    "    if files:\n",
    "        lst = os.listdir(root)\n",
    "        png = fnmatch.filter(lst,'*.png')\n",
    "        if png:\n",
    "            for i in png:\n",
    "                train.append(root+'/'+i)\n",
    "for root,dirs,files in os.walk('./3fold_out4/test'):\n",
    "      if files:\n",
    "        lst = os.listdir(root)\n",
    "        png = fnmatch.filter(lst,'*.png')\n",
    "        if png:\n",
    "            for i in png:\n",
    "                tes.append(root+'/'+i)\n",
    "for root,dirs,files in os.walk('./3fold_out4/val'):\n",
    "      if files:\n",
    "        lst = os.listdir(root)\n",
    "        png = fnmatch.filter(lst,'*.png')\n",
    "        if png:\n",
    "            for i in png:\n",
    "                val.append(root+'/'+i)"
   ]
  },
  {
   "cell_type": "code",
   "execution_count": 4,
   "metadata": {},
   "outputs": [],
   "source": [
    "trn = tes + val\n",
    "test = train"
   ]
  },
  {
   "cell_type": "code",
   "execution_count": 5,
   "metadata": {},
   "outputs": [],
   "source": [
    "def shuffle(image, label):\n",
    "    r, g, b = image.split()\n",
    "    shuffle_label = [(r, g, b), (r, b, g), (g, r, b), (g, b, r), (b, r, g), (b, g, r)]\n",
    "    res=Image.merge('RGB',shuffle_label[label])\n",
    "    return res"
   ]
  },
  {
   "cell_type": "code",
   "execution_count": 6,
   "metadata": {},
   "outputs": [],
   "source": [
    "class MyDataset(Dataset):\n",
    "    def __init__(self, image_path, transform = None):\n",
    "        self.image_list = image_path\n",
    "        self.len = len(self.image_list)\n",
    "        self.transform = transform\n",
    "    def __getitem__(self, index):\n",
    "        fn = self.image_list[index]\n",
    "        img = Image.open(fn)\n",
    "        label = np.random.randint(6)\n",
    "        img = shuffle(img, label)\n",
    "        label = np.array(label,dtype = np.float64)\n",
    "        if self.transform is not None:\n",
    "            img = self.transform(img) \n",
    "        return img, label\n",
    "    def __len__(self):\n",
    "        return self.len\n",
    "\n",
    "Transform = transforms.Compose([\n",
    "    transforms.RandomRotation(degrees=15),\n",
    "    transforms.RandomHorizontalFlip(),\n",
    "    transforms.RandomVerticalFlip(),\n",
    "    #transforms.CenterCrop(224),\n",
    "    transforms.Resize(128),\n",
    "    transforms.ToTensor(),\n",
    "    transforms.Normalize((0.5,0.5,0.5), (0.5,0.5,0.5))\n",
    "    ])\n",
    "Lable_trasfrom = transforms.Compose([\n",
    "    transforms.ToTensor()\n",
    "    ])"
   ]
  },
  {
   "cell_type": "code",
   "execution_count": 7,
   "metadata": {},
   "outputs": [],
   "source": [
    "train_data = MyDataset(trn, transform = Transform)\n",
    "test_data = MyDataset(test, transform = Transform)\n",
    "train_loader = DataLoader(dataset=train_data, batch_size=32, shuffle=True)\n",
    "test_loader = DataLoader(dataset=test_data, batch_size=32, shuffle=False)"
   ]
  },
  {
   "cell_type": "code",
   "execution_count": 8,
   "metadata": {},
   "outputs": [],
   "source": [
    "import torchvision.models as models\n",
    "from torch import nn,optim"
   ]
  },
  {
   "cell_type": "code",
   "execution_count": 9,
   "metadata": {},
   "outputs": [],
   "source": [
    "class EmbeddingNet(torch.nn.Module):\n",
    "    def __init__(self, embedding_size=128):\n",
    "        super(EmbeddingNet, self).__init__()\n",
    "        self.densenet = models.resnet18(pretrained=True)\n",
    "        self.densenet.fc = torch.nn.Sequential(\n",
    "            torch.nn.Linear(512,embedding_size),\n",
    "            #torch.nn.ReLU(),\n",
    "            #torch.nn.Dropout(0.6),\n",
    "            #torch.nn.Linear(256,embedding_size)\n",
    "        )\n",
    "        \n",
    "    def forward(self, x):\n",
    "        embedding = self.densenet(x)\n",
    "        norm = embedding.norm(p=2, dim=1, keepdim=True)\n",
    "        embedding = embedding.div(norm)\n",
    "        return embedding\n",
    "    \n",
    "    def get_embedding(self, x):\n",
    "        return self.forward(x)"
   ]
  },
  {
   "cell_type": "code",
   "execution_count": 10,
   "metadata": {},
   "outputs": [],
   "source": [
    "net = EmbeddingNet()\n",
    "\n",
    "class class_net(torch.nn.Module):\n",
    "    def __init__(self, embedding_net):\n",
    "        super(class_net, self).__init__()\n",
    "        self.net = embedding_net\n",
    "        self.classes =  nn.Sequential(\n",
    "            torch.nn.ReLU(),\n",
    "            torch.nn.Linear(128,6),\n",
    "            torch.nn.LogSoftmax(dim=1)\n",
    "        )\n",
    "        \n",
    "    def forward(self, x):\n",
    "        embedding = self.net(x)\n",
    "        labels = self.classes(embedding)\n",
    "        return labels\n",
    "    \n",
    "    def get_embedding(self, x):\n",
    "        return self.forward(x)\n",
    "    \n",
    "my_resnet = class_net(net)"
   ]
  },
  {
   "cell_type": "code",
   "execution_count": 11,
   "metadata": {},
   "outputs": [],
   "source": [
    "my_resnet = my_resnet.to('cuda:0')"
   ]
  },
  {
   "cell_type": "code",
   "execution_count": 12,
   "metadata": {},
   "outputs": [],
   "source": [
    "loss_func = nn.NLLLoss()\n",
    "lr = 1e-2\n",
    "optimizer = optim.SGD(my_resnet.parameters(),\n",
    "                                lr=lr,\n",
    "                                momentum=0.9,\n",
    "                                weight_decay=1e-4)\n",
    "scheduler = optim.lr_scheduler.StepLR(optimizer, step_size=400, gamma=0.1, last_epoch=-1)"
   ]
  },
  {
   "cell_type": "code",
   "execution_count": 13,
   "metadata": {},
   "outputs": [],
   "source": [
    "import time"
   ]
  },
  {
   "cell_type": "code",
   "execution_count": 14,
   "metadata": {},
   "outputs": [],
   "source": [
    "device = torch.device(\"cuda:0\" if torch.cuda.is_available() else \"cpu\")\n",
    "history = []\n",
    "best_acc = 0.0\n",
    "best_epoch = 0\n",
    "best_each = ''\n",
    "\n",
    "best_loss = 100.0"
   ]
  },
  {
   "cell_type": "code",
   "execution_count": null,
   "metadata": {},
   "outputs": [
    {
     "name": "stdout",
     "output_type": "stream",
     "text": [
      "Epoch: 1/500\n"
     ]
    }
   ],
   "source": [
    "for epoch in range(500):\n",
    "    epoch_start = time.time()\n",
    "    print(\"Epoch: {}/{}\".format(epoch+1, 500))\n",
    "    my_resnet.train()\n",
    "    train_loss = 0.0\n",
    "    valid_loss = 0.0\n",
    "    train_acc = 0.0\n",
    "    valid_acc = 0.0\n",
    "    for i,(data,label) in enumerate(train_loader):\n",
    "        data = data.to(device)\n",
    "        label = label.to(device)\n",
    "        label = label.long()\n",
    "        optimizer.zero_grad()\n",
    "        outputs = my_resnet(data)\n",
    "        loss = loss_func(outputs,label)\n",
    "        loss.backward()\n",
    "        optimizer.step()\n",
    "        train_loss += loss.item() * data.size(0)\n",
    "        ret, predictions = torch.max(outputs.data, 1)\n",
    "        correct_counts = predictions.eq(label.data.view_as(predictions))\n",
    "        acc = torch.mean(correct_counts.type(torch.FloatTensor))\n",
    "        train_acc += acc.item() * data.size(0)\n",
    "    with torch.no_grad():\n",
    "        my_resnet.eval()\n",
    "        for j, (inputs, labels) in enumerate(test_loader):\n",
    "            inputs = inputs.to(device)\n",
    "            labels = labels.to(device)\n",
    "            labels = labels.long()\n",
    "\n",
    "            outputs = my_resnet(inputs)\n",
    "\n",
    "            loss = loss_func(outputs, labels)\n",
    "            #loss = abs(loss-b) + b\n",
    "            valid_loss += loss.item() * inputs.size(0)\n",
    "            ret, predictions = torch.max(outputs.data, 1)\n",
    "            correct_counts = predictions.eq(labels.data.view_as(predictions))\n",
    "            acc = torch.mean(correct_counts.type(torch.FloatTensor))\n",
    "            valid_acc += acc.item() * inputs.size(0)\n",
    "            res = predictions == labels\n",
    "\n",
    "    scheduler.step()\n",
    "    avg_train_loss = train_loss/len(trn)\n",
    "    avg_train_acc = train_acc/len(trn)\n",
    "\n",
    "    avg_valid_loss = valid_loss/len(test)\n",
    "    avg_valid_acc = valid_acc/len(test)\n",
    "    \n",
    "    history.append([avg_train_loss, avg_valid_loss, avg_train_acc, avg_valid_acc])\n",
    "    if best_acc <= avg_valid_acc:\n",
    "        best_acc = avg_valid_acc\n",
    "        best_epoch = epoch + 1\n",
    "        torch.save(my_resnet.state_dict(),'./weight_phase/bestloss_train.pth')\n",
    "\n",
    "    epoch_end = time.time()\n",
    "\n",
    "    print(\"Epoch: {:03d}, Training: Loss: {:.4f}, Accuracy: {:.4f}%, \\n\\t\\tValidation: Loss: {:.4f}, Accuracy: {:.4f}%, Time: {:.4f}s\".format(epoch+1, avg_train_loss, avg_train_acc*100, avg_valid_loss, avg_valid_acc*100, epoch_end-epoch_start))\n",
    "    print(\"Best Accuracy for validation : {:.4f} at epoch {:03d}\".format(best_acc, best_epoch))\n",
    "    torch.save(my_resnet.state_dict(),'./weight_phase/lastloss_train.pth')\n",
    "print(\"Best Acc's each class acc:\",best_each)"
   ]
  },
  {
   "cell_type": "code",
   "execution_count": null,
   "metadata": {},
   "outputs": [],
   "source": [
    "history = np.array(history)\n",
    "plt.plot(history[:, 0:2])\n",
    "plt.legend(['Tr Loss', 'Val Loss'])\n",
    "plt.xlabel('Epoch Number')\n",
    "plt.ylabel('Loss')\n",
    "plt.ylim(0, 3)\n",
    "plt.show()\n",
    " \n",
    "plt.plot(history[:, 2:4])\n",
    "plt.legend(['Tr Accuracy', 'Val Accuracy'])\n",
    "plt.xlabel('Epoch Number')\n",
    "plt.ylabel('Accuracy')\n",
    "plt.ylim(0, 1)\n",
    "plt.show()"
   ]
  },
  {
   "cell_type": "code",
   "execution_count": null,
   "metadata": {},
   "outputs": [],
   "source": []
  }
 ],
 "metadata": {
  "kernelspec": {
   "display_name": "Python 3",
   "language": "python",
   "name": "python3"
  },
  "language_info": {
   "codemirror_mode": {
    "name": "ipython",
    "version": 3
   },
   "file_extension": ".py",
   "mimetype": "text/x-python",
   "name": "python",
   "nbconvert_exporter": "python",
   "pygments_lexer": "ipython3",
   "version": "3.7.6"
  }
 },
 "nbformat": 4,
 "nbformat_minor": 4
}
